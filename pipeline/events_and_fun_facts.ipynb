{
 "cells": [
  {
   "cell_type": "code",
   "execution_count": null,
   "id": "85422dc7-ae32-489d-9f15-b1cc12369ba0",
   "metadata": {},
   "outputs": [],
   "source": [
    "import pandas as pd\n",
    "import fastf1"
   ]
  },
  {
   "cell_type": "code",
   "execution_count": null,
   "id": "d68e44f1-b05a-46b1-bc72-64089326ac6f",
   "metadata": {},
   "outputs": [],
   "source": [
    "fastf1.Cache.enable_cache('cache')  # Specify a directory for caching\n",
    "\n",
    "def get_track_lengths(season):\n",
    "    \"\"\"\n",
    "    Retrieve the track lengths for all races in a given Formula 1 season.\n",
    "    Args:\n",
    "        season (int): The year of the season to retrieve track lengths for.\n",
    "    Returns:\n",
    "        pandas.DataFrame: A DataFrame containing race names and their corresponding track lengths.\n",
    "    \"\"\"\n",
    "    try:\n",
    "        schedule = fastf1.get_event_schedule(season)  # Get the schedule for the season\n",
    "    except Exception as e:\n",
    "        print(f\"Error retrieving schedule for season {season}: {e}\")\n",
    "        return pd.DataFrame()\n",
    "\n",
    "    track_data = []\n",
    "\n",
    "    for _, event in schedule.iterrows():\n",
    "        if event['RoundNumber'] == 0:\n",
    "            continue\n",
    "        try:\n",
    "            event_data = fastf1.get_event(season, event['RoundNumber'])\n",
    "            session_data = event_data.get_session('R')\n",
    "            session_data.load()\n",
    "            track_length = session_data.total_laps\n",
    "            track_data.append({\n",
    "                \"Race\": event['EventName'],\n",
    "                \"Track Length (m)\": track_length\n",
    "            })\n",
    "        except Exception as e:\n",
    "            print(f\"Error retrieving track length for {event['EventName']}: {e}\")\n",
    "\n",
    "    return pd.DataFrame(track_data)"
   ]
  },
  {
   "cell_type": "code",
   "execution_count": null,
   "id": "d5121419-e8b7-44a3-b69b-26183325c6ac",
   "metadata": {},
   "outputs": [],
   "source": [
    "df = get_track_lengths(2024)\n",
    "df = df.rename({'Track Length (m)': 'TotalLaps'}, axis=1)\n",
    "df = df.rename({'Race': 'Grand Prix'}, axis=1)\n",
    "df['Grand Prix'] = df['Grand Prix'].str.strip()"
   ]
  },
  {
   "cell_type": "code",
   "execution_count": null,
   "id": "a53bd494-3685-44ed-bb39-284dab85d81d",
   "metadata": {},
   "outputs": [],
   "source": [
    "url = 'https://en.wikipedia.org/wiki/2024_Formula_One_World_Championship'\n",
    "\n",
    "html_dfs = pd.read_html(url)\n",
    "\n",
    "html_df = html_dfs[2].drop(24).set_index('Round')\n",
    "html_df['Location'] = html_df['Circuit'].apply(lambda x: [y.strip() for y in x.split(',')][1])\n",
    "html_df['Circuit'] = html_df['Circuit'].apply(lambda x: [y.strip() for y in x.split(',')][0])\n",
    "\n",
    "html_df"
   ]
  },
  {
   "cell_type": "code",
   "execution_count": null,
   "id": "6a5059f7-5e57-4b0f-821a-6b7601f5ef78",
   "metadata": {},
   "outputs": [],
   "source": [
    "circuit_url = 'https://en.wikipedia.org/wiki/List_of_Formula_One_circuits'\n",
    "circuits_dfs = pd.read_html(circuit_url)\n",
    "\n",
    "circuit_df = circuits_dfs[2]\n",
    "circuit_df\n",
    "circuit_df['Circuit'] = circuit_df['Circuit'].str.replace(r'[^0-9a-zA-z\\ ]+', '', regex=True)\n",
    "circuit_df['Length_km'] = circuit_df['Last length used'].apply(lambda x: float(x.split('\\xa0')[0].strip()))\n",
    "circuit_df['Grand Prix'] = circuit_df['Grands Prix'].apply(lambda x: [y.strip() for y in x.split(',')])\n",
    "circuit_df = circuit_df.explode('Grand Prix')\n",
    "circuit_df['2024'] = circuit_df['Season(s)'].apply(lambda x: True if '2024' in x or '2023' in x else False)\n",
    "circuit_df = circuit_df[circuit_df['2024']]\n",
    "circuit_df = circuit_df[['Type','Direction', 'Location', 'Country', 'Length_km', 'Turns', 'Grand Prix']]"
   ]
  },
  {
   "cell_type": "code",
   "execution_count": null,
   "id": "89d3bea7-3aa3-4e01-92c4-f026faf5594b",
   "metadata": {},
   "outputs": [],
   "source": [
    "import bs4 as bs\n",
    "import requests\n",
    "\n",
    "url = 'https://en.wikipedia.org/wiki/2024_Formula_One_World_Championship'\n",
    "r = requests.get(url)\n",
    "soup = bs.BeautifulSoup(r.content, 'lxml')\n",
    "parsed_table = soup.find_all('table')[2] "
   ]
  },
  {
   "cell_type": "code",
   "execution_count": null,
   "id": "d32577fd-1f3e-4854-8e75-2b95ce584f9c",
   "metadata": {},
   "outputs": [],
   "source": [
    "soup_df = pd.DataFrame([{'Url': 'https://en.wikipedia.org' + td.a['href'], 'Grand Prix': td.a['title'] } for td in parsed_table.find_all('td') if td.find('a') and 'Grand_Prix' in td.a['href'] ])\n",
    "soup_df['Round'] = soup_df.index + 1\n",
    "soup_df['Round'] = soup_df['Round'].astype(str)\n",
    "soup_df"
   ]
  },
  {
   "cell_type": "code",
   "execution_count": null,
   "id": "5cb16137-843e-41ec-b281-db0e522024e4",
   "metadata": {},
   "outputs": [],
   "source": [
    "merged_df = html_df.reset_index().merge(circuit_df, how='left', on=[ 'Grand Prix']) \n",
    "merged_df = merged_df[~((merged_df['Location_x'] == 'Monza') & (merged_df['Location_y'] == 'Imola'))]\n",
    "merged_df"
   ]
  },
  {
   "cell_type": "code",
   "execution_count": null,
   "id": "cf1e8d2f-36a7-485d-bf1e-4d16046a8c04",
   "metadata": {},
   "outputs": [],
   "source": [
    "merged_df = merged_df.merge(soup_df, how='left', on='Round')\n",
    "merged_df = merged_df.drop(['Grand Prix_y', 'Location_y'], axis=1)\n",
    "merged_df = merged_df.rename({'Grand Prix_x': 'Grand Prix', 'Location_x': 'Location'}, axis=1)"
   ]
  },
  {
   "cell_type": "code",
   "execution_count": null,
   "id": "047b691a-c958-4841-9325-de884b9726e6",
   "metadata": {},
   "outputs": [],
   "source": [
    "merged_df = merged_df.merge(df, how='left', on='Grand Prix')"
   ]
  },
  {
   "cell_type": "code",
   "execution_count": null,
   "id": "b1cd2b5c-4b2c-4c2d-b7af-329d59d9a488",
   "metadata": {},
   "outputs": [],
   "source": [
    "import numpy as np\n",
    "merged_df['laps_calc'] = np.ceil(305 / merged_df['Length_km'])\n",
    "merged_df['Total Laps'] = merged_df.apply(lambda x: x['TotalLaps'] if not np.isnan(x['TotalLaps']) else x['laps_calc'], axis=1)\n",
    "merged_df = merged_df.drop(['TotalLaps', 'laps_calc'], axis=1)\n",
    "merged_df"
   ]
  },
  {
   "cell_type": "code",
   "execution_count": null,
   "id": "f81db25f-83c8-4631-b755-6976ca080ab8",
   "metadata": {},
   "outputs": [],
   "source": [
    "merged_df.to_csv('track_data.csv', index=False)"
   ]
  },
  {
   "cell_type": "code",
   "execution_count": null,
   "id": "ae3978d1-0333-4fcf-9d00-186a86b7c84f",
   "metadata": {},
   "outputs": [],
   "source": [
    "from openai import OpenAI\n",
    "import requests\n",
    "\n",
    "# Set your OpenAI API Key\n",
    "key = ''\n",
    "\n",
    "def get_url_content(url):\n",
    "    try:\n",
    "        response = requests.get(url)\n",
    "        response.raise_for_status()\n",
    "        soup = bs.BeautifulSoup(response.content, 'lxml')\n",
    "        parsed_table = soup.find_all(class_='infobox') \n",
    "        return f\"\"\"{str(parsed_table[0])}\"\"\"\n",
    "    except Exception as e:\n",
    "        print(f\"Error fetching URL content: {e}\")\n",
    "        return None\n",
    "\n",
    "def get_fun_facts(text, num_facts=5):\n",
    "    prompt = (\n",
    "        f\"Extract {num_facts} fun and interesting facts such as number of times held, driver with most wins, fastest lap, track built date, etc. from the following text:\\n\\n{text}\\n\\n\"\n",
    "        f\"\"\"Please return the facts in JSON format where the keys are \"Fact1\", Fact 2\", and so on\"\"\"\n",
    "    )\n",
    "    client = OpenAI(api_key = key)\n",
    "    try:\n",
    "        response = client.chat.completions.create(\n",
    "            # model=\"gpt-3.5-turbo\",\n",
    "            model=\"gpt-4o\",\n",
    "            messages=[{\"role\": \"user\", \"content\": prompt}],\n",
    "            max_tokens=4000,\n",
    "            temperature=0.50,\n",
    "        )\n",
    "        content = response.choices[0].message.content\n",
    "        return content\n",
    "    except Exception as e:\n",
    "        print(f\"Error generating fun facts: {e}\")\n",
    "        return {}\n",
    "\n",
    "def fetch_and_generate_facts(url):\n",
    "    content = get_url_content(url)\n",
    "    if not content:\n",
    "        return {}\n",
    "\n",
    "    trimmed_content = content[:4000]\n",
    "    return get_fun_facts(trimmed_content)\n",
    "\n",
    "new_df = []\n",
    "\n",
    "import time\n",
    "\n",
    "for row in merged_df.to_dict(orient='records'):\n",
    "    print(row['Round'])\n",
    "    fun_fact_dict_str = fetch_and_generate_facts(row['Url'])\n",
    "    print(fun_fact_dict_str, type(fun_fact_dict_str))\n",
    "    row['Fun_fact_dict'] = fun_fact_dict_str\n",
    "    new_df.append(row)\n",
    "    time.sleep(5)\n"
   ]
  },
  {
   "cell_type": "code",
   "execution_count": null,
   "id": "4a1d696f-a409-4b2c-a2d6-bdcce0247acb",
   "metadata": {},
   "outputs": [],
   "source": [
    "import json\n",
    "\n",
    "new_df = [ row | json.loads(row['Fun_fact_dict'].replace('```json', '').replace('```', '').replace('\\n', '')) for row in new_df]\n",
    "new_df = pd.DataFrame(new_df)\n",
    "new_df = new_df.drop(['Fun_fact_dict'], axis=1)\n",
    "for column in [f'Fact{i}' for i in range(1,6)]:\n",
    "    new_df[column] = new_df[column].str.replace('constructor', 'team')\n",
    "\n",
    "new_df.to_csv('track_data.csv', index=False)"
   ]
  }
 ],
 "metadata": {
  "kernelspec": {
   "display_name": "Python 3 (ipykernel)",
   "language": "python",
   "name": "python3"
  },
  "language_info": {
   "codemirror_mode": {
    "name": "ipython",
    "version": 3
   },
   "file_extension": ".py",
   "mimetype": "text/x-python",
   "name": "python",
   "nbconvert_exporter": "python",
   "pygments_lexer": "ipython3",
   "version": "3.12.3"
  }
 },
 "nbformat": 4,
 "nbformat_minor": 5
}
